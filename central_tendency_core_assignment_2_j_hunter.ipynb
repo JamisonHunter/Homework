{
  "nbformat": 4,
  "nbformat_minor": 0,
  "metadata": {
    "colab": {
      "provenance": []
    },
    "kernelspec": {
      "name": "python3",
      "display_name": "Python 3"
    },
    "language_info": {
      "name": "python"
    }
  },
  "cells": [
    {
      "cell_type": "markdown",
      "source": [
        "Jamison Hunter\n",
        "\n",
        "March 31st, 2023\n",
        "\n",
        "Coding Dojo\n",
        "\n",
        "**Assignment Two: Central Tendency Functions**"
      ],
      "metadata": {
        "id": "H_nPoL2SRJl2"
      }
    },
    {
      "cell_type": "markdown",
      "source": [
        "1) Open a new Colab notebook.\n",
        "\n",
        "2) Run a code cell with the lists of temperature data:\n",
        "\n",
        "3) Add the imports you will need to find the mean, median, and mode"
      ],
      "metadata": {
        "id": "A443i_fAR0rW"
      }
    },
    {
      "cell_type": "code",
      "source": [
        "import numpy as np\n",
        "from statistics import mode"
      ],
      "metadata": {
        "id": "V0r5_MLESJpm"
      },
      "execution_count": null,
      "outputs": []
    },
    {
      "cell_type": "code",
      "source": [
        "# Lists of Fahrenheit temps\n",
        "week_1 = [45, 55, 49, 60, 52, 55, 58]\n",
        "week_2 = [51, 49, 62, 50, 53, 56, 59]\n",
        "week_3 = [60, 60, 61, 62, 57, 59, 58]\n",
        "week_4 = [59, 63, 62, 61, 65, 66, 62]"
      ],
      "metadata": {
        "id": "YPhgJrm5Rt34"
      },
      "execution_count": null,
      "outputs": []
    },
    {
      "cell_type": "markdown",
      "source": [
        "4) Use functions from the imported packages to find the mean, median, and mode for the week_1 data."
      ],
      "metadata": {
        "id": "gcvBvgHSSm_r"
      }
    },
    {
      "cell_type": "code",
      "source": [
        "print(f\"The week one average is {np.mean(week_1)}.\")\n",
        "print(f\"The week one median is {np.median(week_1)}.\")\n",
        "print(f\"The week one mode is {mode(week_1)}.\")"
      ],
      "metadata": {
        "colab": {
          "base_uri": "https://localhost:8080/"
        },
        "id": "0DkvXjM0St-n",
        "outputId": "0e66941e-db1d-41e9-effa-cdd5fb17bfec"
      },
      "execution_count": null,
      "outputs": [
        {
          "output_type": "stream",
          "name": "stdout",
          "text": [
            "The week one average is 53.42857142857143.\n",
            "The week one median is 55.0.\n",
            "The week one mode is 55.\n"
          ]
        }
      ]
    },
    {
      "cell_type": "markdown",
      "source": [
        "5) Now, rather than having to call each of these functions separately to get the three measures of central tendency, write a custom function to return all three values in a single function call:\n",
        "\n",
        "Name the function \"central_tendency\" and start with a single positional argument that accepts the list of temperatures.\n",
        "Define three variables as mean_temp, median_temp, and mode_temp using the existing functions from NumPy and the statistics module.\n",
        "Add a return statement to return all three variables.  \n",
        "\n",
        "6) Test the function on week_1 data."
      ],
      "metadata": {
        "id": "_H0P110cUDYn"
      }
    },
    {
      "cell_type": "code",
      "source": [
        "def central_tendency_return(week):\n",
        "  mean_temp = np.mean(week)\n",
        "  median_temp = np.median(week)\n",
        "  mode_temp = mode(week)\n",
        "\n",
        "  return mean_temp, median_temp, mode_temp\n",
        " "
      ],
      "metadata": {
        "id": "7E_NGkOuUPUh"
      },
      "execution_count": null,
      "outputs": []
    },
    {
      "cell_type": "code",
      "source": [
        "# Testing the above function on week_1 data\n",
        "central_tendency_return(week_1)"
      ],
      "metadata": {
        "colab": {
          "base_uri": "https://localhost:8080/"
        },
        "id": "geh3T2xCXIGF",
        "outputId": "b8124cdf-6d72-4113-8f38-b90356546814"
      },
      "execution_count": null,
      "outputs": [
        {
          "output_type": "execute_result",
          "data": {
            "text/plain": [
              "(53.42857142857143, 55.0, 55)"
            ]
          },
          "metadata": {},
          "execution_count": 15
        }
      ]
    },
    {
      "cell_type": "markdown",
      "source": [
        "7) Modify the central_tendency function to include a keyword argument with the default set to verbose = True\n",
        "\n",
        "Add conditional statements within the function so that if verbose = True, the function will print:\n",
        "\n",
        "The mean is ___.\n",
        "\n",
        "The median is ___.\n",
        "\n",
        "The mode is ___.\n",
        "\n",
        "(Hint: use f-strings to fill in the blanks with the appropriate information)\n",
        "\n",
        "If verbose = False, the function will just return the mean, median, and mode values without the print statements.\n",
        "\n",
        "8) Test the function on week_2 \n",
        "\n",
        "With \"verbose = True\" included as the second argument in the function call.\n",
        "With no argument for verbose included in the functional call (to test the default).\n",
        "With \"verbose = False\" included as the second argument in the function call."
      ],
      "metadata": {
        "id": "VjAANclC1ILg"
      }
    },
    {
      "cell_type": "code",
      "source": [
        "def central_tendency(week, verbose = True):\n",
        "  mean_temp = np.mean(week)\n",
        "  median_temp = np.median(week)\n",
        "  mode_temp = mode(week)\n",
        "  \n",
        "  if verbose == True:\n",
        "    print(f\"The mean is {mean_temp}.\")\n",
        "    print(f\"The median is {median_temp}.\")\n",
        "    print(f\"The mode is {mode_temp}.\")\n",
        "  else:\n",
        "    return mean_temp, median_temp, mode_temp"
      ],
      "metadata": {
        "id": "UJR8RX041QX8"
      },
      "execution_count": null,
      "outputs": []
    },
    {
      "cell_type": "code",
      "source": [
        "central_tendency(week_2, verbose = True)"
      ],
      "metadata": {
        "colab": {
          "base_uri": "https://localhost:8080/"
        },
        "id": "CDuGihveA-At",
        "outputId": "eecfda3f-f518-4228-84ab-098cf7c1dc7f"
      },
      "execution_count": null,
      "outputs": [
        {
          "output_type": "stream",
          "name": "stdout",
          "text": [
            "The mean is 53.42857142857143.\n",
            "The median is 55.0.\n",
            "The mode is 55.\n"
          ]
        }
      ]
    },
    {
      "cell_type": "code",
      "source": [
        "central_tendency(week_2, verbose = False)"
      ],
      "metadata": {
        "colab": {
          "base_uri": "https://localhost:8080/"
        },
        "id": "bSItQ0ti91uR",
        "outputId": "4e838d4a-fb1e-409a-a1b3-3fdc52e93311"
      },
      "execution_count": null,
      "outputs": [
        {
          "output_type": "execute_result",
          "data": {
            "text/plain": [
              "(54.285714285714285, 53.0, 51)"
            ]
          },
          "metadata": {},
          "execution_count": 20
        }
      ]
    },
    {
      "cell_type": "code",
      "source": [
        "central_tendency(week_2)"
      ],
      "metadata": {
        "colab": {
          "base_uri": "https://localhost:8080/"
        },
        "id": "K0KUepG89_8E",
        "outputId": "cad69d04-5774-4b28-b2fb-199942062160"
      },
      "execution_count": null,
      "outputs": [
        {
          "output_type": "stream",
          "name": "stdout",
          "text": [
            "The mean is 54.285714285714285.\n",
            "The median is 53.0.\n",
            "The mode is 51.\n"
          ]
        }
      ]
    }
  ]
}