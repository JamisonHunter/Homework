{
  "nbformat": 4,
  "nbformat_minor": 0,
  "metadata": {
    "colab": {
      "provenance": []
    },
    "kernelspec": {
      "name": "python3",
      "display_name": "Python 3"
    },
    "language_info": {
      "name": "python"
    }
  },
  "cells": [
    {
      "cell_type": "markdown",
      "source": [
        "Jamison Hunter\n",
        "\n",
        "March 30th, 2023\n",
        "\n",
        "Coding Dojo\n",
        "\n",
        "**Core Assignment One: For Loops**"
      ],
      "metadata": {
        "id": "qFBO-xSU35tR"
      }
    },
    {
      "cell_type": "markdown",
      "source": [
        "**Task One**\n",
        "\n",
        "A company sells the following items at the given prices:\n",
        "\n",
        "Shirts 10.00\n",
        "\n",
        "Hats 15.00\n",
        "\n",
        "Buttons 4.00\n",
        "\n",
        "Stickers 1.00\n",
        "\n",
        "TO DO:\n",
        "\n",
        "A: Run the pre-coded cell to create a list of the products.\n",
        "\n",
        "B: Write a for-loop and use an f-string to print \"We sell PRODUCT here!\" for each product in the list."
      ],
      "metadata": {
        "id": "HINjLX625Cpz"
      }
    },
    {
      "cell_type": "code",
      "source": [
        "# Create a list of products\n",
        "products = ['Shirts', 'Hats', 'Buttons', 'Stickers']"
      ],
      "metadata": {
        "id": "5WdQ4KXW5QIe"
      },
      "execution_count": null,
      "outputs": []
    },
    {
      "cell_type": "code",
      "source": [
        "def products_listing():\n",
        "  for i in range(0, len(products)):\n",
        "    print(f\"We sell {products[i]}.\")"
      ],
      "metadata": {
        "id": "8_YSMNfC5u46"
      },
      "execution_count": null,
      "outputs": []
    },
    {
      "cell_type": "code",
      "source": [
        "products_listing()"
      ],
      "metadata": {
        "colab": {
          "base_uri": "https://localhost:8080/"
        },
        "id": "8XYKGUi37laj",
        "outputId": "8c0ef06a-b63f-4d7e-c964-baa18f213827"
      },
      "execution_count": null,
      "outputs": [
        {
          "output_type": "stream",
          "name": "stdout",
          "text": [
            "We sell Shirts.\n",
            "We sell Hats.\n",
            "We sell Buttons.\n",
            "We sell Stickers.\n"
          ]
        }
      ]
    },
    {
      "cell_type": "markdown",
      "source": [
        "**Task Two**\n",
        "\n",
        "The products are going on a 20% off sale!\n",
        "\n",
        "TO DO:\n",
        "\n",
        "A: Run the precoded cell to create the list of original \n",
        "\n",
        "B: Define an empty list called sale_prices\n",
        "\n",
        "C: Write a for-loop to append values to the sales_prices list that reflect the sale price (original price * 0.8)\n",
        "\n",
        "D: Print the new list of sales_prices"
      ],
      "metadata": {
        "id": "5OfaiJIu8bAd"
      }
    },
    {
      "cell_type": "code",
      "source": [
        "# Create a list of the prices.\n",
        "original_prices = [10, 15, 4, 1]"
      ],
      "metadata": {
        "id": "-iDxlFT18m5A"
      },
      "execution_count": null,
      "outputs": []
    },
    {
      "cell_type": "code",
      "source": [
        "sale_prices = []"
      ],
      "metadata": {
        "id": "6Vgva4b5845I"
      },
      "execution_count": null,
      "outputs": []
    },
    {
      "cell_type": "code",
      "source": [
        "def sale_prices_listing():\n",
        "  for i in range(0, len(original_prices)):\n",
        "    x = original_prices[i]*0.8\n",
        "    sale_prices.append(x)\n",
        "\n",
        "  print(sale_prices)"
      ],
      "metadata": {
        "id": "Xt8AsY389O-H"
      },
      "execution_count": null,
      "outputs": []
    },
    {
      "cell_type": "code",
      "source": [
        "sale_prices_listing()"
      ],
      "metadata": {
        "colab": {
          "base_uri": "https://localhost:8080/"
        },
        "id": "pYFK0OSx_eh_",
        "outputId": "bc5dc955-3efc-467e-a582-56e0165241c7"
      },
      "execution_count": null,
      "outputs": [
        {
          "output_type": "stream",
          "name": "stdout",
          "text": [
            "[8.0, 12.0, 3.2, 0.8]\n"
          ]
        }
      ]
    },
    {
      "cell_type": "markdown",
      "source": [
        "**Task Three**\n",
        "\n",
        "TO DO:\n",
        "\n",
        "A: Run the pre-coded cell to create the prices_dict.\n",
        "\n",
        "B: Loop through the prices_dict and use an f-sting to print the statement: \"We sell PRODUCT!\"\n",
        "\n",
        "C: Loop through the prices_dict using prices_dict.items() to print the statement \"PRODUCT costs $PRICE each.\" for each product in the dictionary."
      ],
      "metadata": {
        "id": "951jcWzX_-xx"
      }
    },
    {
      "cell_type": "code",
      "source": [
        "# Run this cell to create a dictionary with product and price\n",
        "prices_dict = {'Shirts': 10, \n",
        "              'Hats': 15,\n",
        "              'Buttons' : 4,\n",
        "              'Stickers' : 1}"
      ],
      "metadata": {
        "id": "FuIC19uyBRKH"
      },
      "execution_count": null,
      "outputs": []
    },
    {
      "cell_type": "code",
      "source": [
        "def prices_dict_listing():\n",
        "  for i in range(0, len(prices_dict)):\n",
        "    print(f\"We Sell {list(prices_dict)[i]}.\")"
      ],
      "metadata": {
        "id": "DTGUCrtdBbfS"
      },
      "execution_count": null,
      "outputs": []
    },
    {
      "cell_type": "code",
      "source": [
        "prices_dict_listing()"
      ],
      "metadata": {
        "colab": {
          "base_uri": "https://localhost:8080/"
        },
        "id": "ReWK4rC9Hwam",
        "outputId": "aa8ea787-ac82-4de3-b37f-42a0c69ba66f"
      },
      "execution_count": null,
      "outputs": [
        {
          "output_type": "stream",
          "name": "stdout",
          "text": [
            "We Sell Shirts.\n",
            "We Sell Hats.\n",
            "We Sell Buttons.\n",
            "We Sell Stickers.\n"
          ]
        }
      ]
    },
    {
      "cell_type": "code",
      "source": [
        "def full_listing():\n",
        "  for i in range(0, len(prices_dict.items())):\n",
        "    print(f\"{list(prices_dict)[i]} costs ${prices_dict[list(prices_dict)[i]]} each.\")"
      ],
      "metadata": {
        "id": "k2bzNGmWIyCU"
      },
      "execution_count": null,
      "outputs": []
    },
    {
      "cell_type": "code",
      "source": [
        "full_listing()"
      ],
      "metadata": {
        "colab": {
          "base_uri": "https://localhost:8080/"
        },
        "id": "SeF53cQvRtLH",
        "outputId": "5d352234-09f0-4b8e-cb87-eb7a2205b11e"
      },
      "execution_count": null,
      "outputs": [
        {
          "output_type": "stream",
          "name": "stdout",
          "text": [
            "Shirts costs $10 each.\n",
            "Hats costs $15 each.\n",
            "Buttons costs $4 each.\n",
            "Stickers costs $1 each.\n"
          ]
        }
      ]
    },
    {
      "cell_type": "markdown",
      "source": [
        "**Task Four**\n",
        "\n",
        "We want to create a new dictionary that contains the product and the sale price called sale_dict.\n",
        "\n",
        "To create the prices_dict in the above task, we just provided the code cell with the necessary information. Rather than typing all of the info to make the sale dictionary, we will use a for-loop to calculate the sale price based on the original price.\n",
        "\n",
        "TO DO:\n",
        "\n",
        "A: Create an empty dictionary called sales_dict.\n",
        "\n",
        "B: Use a for-loop and prices_dict.items() to fill in the sales_dict.\n",
        "\n",
        "Calculate the sale price (original price * 0.8).\n",
        "\n",
        "Save the sale price in the sales_dict using the product name as the key.\n",
        "\n",
        "C: Print the sales_dict\n",
        "\n",
        "D: Loop through the sales_dict.items() to print \"PRODUCT are on sale for only SALE PRICE!'"
      ],
      "metadata": {
        "id": "QXgd6TdFTnU8"
      }
    },
    {
      "cell_type": "code",
      "source": [
        "sales_dict = {}"
      ],
      "metadata": {
        "id": "5hRwXHe2TznP"
      },
      "execution_count": null,
      "outputs": []
    },
    {
      "cell_type": "code",
      "source": [
        "def sales_listing():\n",
        "  for i in range(0, len(prices_dict.items())):\n",
        "    sales_dict[list(prices_dict)[i]] = prices_dict[list(prices_dict)[i]]*0.8\n",
        "\n",
        "  print(sales_dict)\n",
        "  print()\n",
        "\n",
        "  for i in range(0, len(sales_dict.items())):\n",
        "    print(f\"{list(sales_dict)[i]} are on sale for only ${prices_dict[list(sales_dict)[i]]} each.\")\n"
      ],
      "metadata": {
        "id": "eKSQtX3CT8AE"
      },
      "execution_count": null,
      "outputs": []
    },
    {
      "cell_type": "code",
      "source": [
        "sales_listing()"
      ],
      "metadata": {
        "colab": {
          "base_uri": "https://localhost:8080/"
        },
        "id": "-KLDFzRB20mR",
        "outputId": "6b2794a4-6216-4454-b210-1ab59ff3ca98"
      },
      "execution_count": null,
      "outputs": [
        {
          "output_type": "stream",
          "name": "stdout",
          "text": [
            "{'Shirts': 8.0, 'Hats': 12.0, 'Buttons': 3.2, 'Stickers': 0.8}\n",
            "\n",
            "Shirts are on sale for $10 each.\n",
            "Hats are on sale for $15 each.\n",
            "Buttons are on sale for $4 each.\n",
            "Stickers are on sale for $1 each.\n"
          ]
        }
      ]
    }
  ]
}